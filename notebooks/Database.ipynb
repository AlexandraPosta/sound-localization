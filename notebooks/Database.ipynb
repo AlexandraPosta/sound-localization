{
 "cells": [
  {
   "attachments": {},
   "cell_type": "markdown",
   "metadata": {},
   "source": [
    "# Generate training set"
   ]
  },
  {
   "attachments": {},
   "cell_type": "markdown",
   "metadata": {},
   "source": [
    "Real-time Deep Neural Networks for Microphone Array Direction of Arrival Estimation\n",
    "\n",
    "This research uses the CMU_ARCTIC database, which is a speech database in CMU_ARCTIC speech synthesis databases, established by the Language Technologies Institute of Carnegie Mellon University, USA. This database is mainly used in the research of speech synthesis. The content of the corpus database was selected by the non-copyright center of Project Gutenberg, which is about 1150 sentences. An audio of two males and two females with American English accents were collected. The recording format is 16 bits, the sampling rate is 32 KHz, and the length of each sentence is 3 seconds. The database has a total of 4528 audio files."
   ]
  },
  {
   "attachments": {},
   "cell_type": "markdown",
   "metadata": {},
   "source": [
    "## Imports"
   ]
  },
  {
   "cell_type": "code",
   "execution_count": 13,
   "metadata": {},
   "outputs": [],
   "source": [
    "import math\n",
    "import sys\n",
    "import os\n",
    "from collections import defaultdict\n",
    "from itertools import combinations\n",
    "\n",
    "import numpy as np\n",
    "from scipy.io import wavfile\n",
    "from scipy import signal\n",
    "import pandas as pd\n",
    "\n",
    "import matplotlib.pyplot as plt\n",
    "import seaborn as sns\n",
    "from pylab import rcParams\n",
    "from matplotlib import rc\n",
    "from pandas.plotting import register_matplotlib_converters\n",
    "\n",
    "import pyroomacoustics as pra\n",
    "from pyroomacoustics.utilities import normalize\n",
    "from pyroomacoustics.transform import stft"
   ]
  },
  {
   "attachments": {},
   "cell_type": "markdown",
   "metadata": {},
   "source": [
    "## Constants"
   ]
  },
  {
   "cell_type": "code",
   "execution_count": null,
   "metadata": {},
   "outputs": [],
   "source": [
    "# Label resolution of angles\n",
    "RESOLUTION = 15\n",
    "\n",
    "# Number of samples to include while creating one ML feature\n",
    "SAMPLES = 2048\n",
    "\n",
    "# Determines the overlap of samples between consecutive features\n",
    "STEP = 1024\n",
    "\n",
    "# Training rooms dimensions\n",
    "ROOMS = {\n",
    "    'small' : np.array([4, 4, 3]),\n",
    "    'medium' : np.array([6, 6, 3]),\n",
    "    'large' : np.array([8, 8, 3])\n",
    "}\n",
    "\n",
    "# Testing rooms dimensions\n",
    "TEST_ROOMS = {\n",
    "    'small' : np.array([5, 5, 2]),\n",
    "    'medium' : np.array([7, 7, 2]),\n",
    "    'large' : np.array([9, 9, 2])\n",
    "}\n",
    "\n",
    "AUDIO_PATH = 'C:\\\\Users\\\\Alex\\\\source\\\\repos\\\\sound-localization\\\\sounds\\\\training'\n",
    "\n",
    "# Number of microphones\n",
    "MICS_NUMBER = 2"
   ]
  },
  {
   "attachments": {},
   "cell_type": "markdown",
   "metadata": {},
   "source": [
    "## Classes to store signals"
   ]
  },
  {
   "cell_type": "code",
   "execution_count": 14,
   "metadata": {},
   "outputs": [],
   "source": [
    "class RIR():\n",
    "    def __init__(self, room, source, angle, distance, mic_nr, src_nr):\n",
    "        self.name = source + '-' + str(distance) + '-' + str(angle * 180. * np.pi)\n",
    "        self.room = room\n",
    "        self.source = source\n",
    "        self.angle = angle\n",
    "        self.distance = distance\n",
    "\n",
    "        # Check validity of the room\n",
    "        self.room.simulate()\n",
    "        \n",
    "        # Include simulated RIR to dataset\n",
    "        self.rir = room.rir[mic_nr][src_nr]\n",
    "        \n",
    "\n",
    "    def getSignals(self):\n",
    "        # Extract simulated signal for each microphone\n",
    "        data = self.room.mic_array.signals.T\n",
    "        data = np.array(normalize(data, bits=16), dtype=np.int16)\n",
    "        wav_signals[dist].extend(data)"
   ]
  },
  {
   "cell_type": "code",
   "execution_count": 11,
   "metadata": {},
   "outputs": [],
   "source": [
    "# Dataset\n",
    "\n",
    "class SimulatedRIR():\n",
    "    def __init__(self, dataset):\n",
    "        self.dataset = dict()\n",
    "\n",
    "    def addRIR(self, RIR):\n",
    "        self.dataset[RIR.name] = RIR\n",
    "\n",
    "    def removeRIR(self, RIR):\n",
    "        self.dataset.pop(RIR.name)\n",
    "\n",
    "    def data(self):\n",
    "        return self.dataset"
   ]
  },
  {
   "attachments": {},
   "cell_type": "markdown",
   "metadata": {},
   "source": [
    "## Definition for rooms, microphones and sources"
   ]
  },
  {
   "cell_type": "code",
   "execution_count": 1,
   "metadata": {},
   "outputs": [],
   "source": [
    "def create_simulation_room(room_dim=[4, 4, 3], mic_pos=[2, 2, 1.5], room_fs=16000):    \n",
    "    # Initialize room\n",
    "    room = pra.ShoeBox(room_dim, fs=room_fs)\n",
    "    w = room_dim[0]\n",
    "    l = room_dim[1]\n",
    "    h = room_dim[2]\n",
    "\n",
    "    # Generate the microphones\n",
    "    mic_loc = np.c_[[w/2+0.2, l/2, h/2],[w/2-0.2, l/2, h/2]] \n",
    "    room.add_microphone_array(mic_loc)\n",
    "    \n",
    "    return room\n",
    "\n",
    "\n",
    "def create_sound_sources(room_dim=[4, 4, 3], resolution=15):        \n",
    "    # Specify angle in distance ranges\n",
    "    angle_range = range(0, 361, resolution)\n",
    "    dist_range = [1., 2.]\n",
    "    height_range = [room_dim[-1]/2]\n",
    "    sources = defaultdict(list)\n",
    "\n",
    "    for angle in angle_range:\n",
    "        for R in dist_range:\n",
    "            for h in height_range:\n",
    "                source = [R * math.cos(math.radians(angle)) + room_dim[0] / 2, \n",
    "                            R * math.sin(math.radians(angle)) + room_dim[0] / 2, h]\n",
    "                sources[angle].append((R, h, source))\n",
    "    return sources"
   ]
  },
  {
   "cell_type": "code",
   "execution_count": null,
   "metadata": {},
   "outputs": [],
   "source": [
    "rooms_dim = [[5.,5.]]\n",
    "sound_files = [\"C:\\\\Users\\\\Alex\\\\source\\\\repos\\\\Data\\\\Sound\\\\arctic_a0010.wav\"] # size 100\n",
    "azimuth = np.arange(0, 181, 15, dtype=float) / 180. * np.pi # 15 degrees distance\n",
    "distances = np.array([1., 2.]) # source distance of 1 and 2 meters\n",
    "\n",
    "dataset = SimulatedRIR(dataset=None)\n",
    "\n",
    "for room_dim in rooms_dim:   \n",
    "    w = room_dim[0]\n",
    "    l = room_dim[1]\n",
    "    h = 2.5\n",
    "\n",
    "    # add sources\n",
    "    for sound_file in sound_files:\n",
    "        fs, signal = wavfile.read(sound_file)\n",
    "\n",
    "        for angle in azimuth:\n",
    "            for distance in distances:\n",
    "                # create room\n",
    "                room = pra.ShoeBox(room_dim, fs=fs)\n",
    "                room.extrude(h)\n",
    "\n",
    "                # add microphones\n",
    "                mic_loc = np.c_[[(w/2) + 0.3, 1., 1.],[(w/2) - 0.3, 1., 1.]]\n",
    "                room.add_microphone_array(mic_loc)\n",
    "\n",
    "                source_location = [(w/2) + distance * np.cos(angle), 1. + distance * np.sin(angle), 1.]\n",
    "                room.add_source(source_location, signal=signal)\n",
    "\n",
    "                rir = RIR(room=room, source=os.path.basename(sound_file), angle=angle, distance=distance)\n",
    "                dataset.addRIR(rir)\n"
   ]
  }
 ],
 "metadata": {
  "kernelspec": {
   "display_name": "Python 3.10.7 64-bit",
   "language": "python",
   "name": "python3"
  },
  "language_info": {
   "codemirror_mode": {
    "name": "ipython",
    "version": 3
   },
   "file_extension": ".py",
   "mimetype": "text/x-python",
   "name": "python",
   "nbconvert_exporter": "python",
   "pygments_lexer": "ipython3",
   "version": "3.10.7"
  },
  "vscode": {
   "interpreter": {
    "hash": "26de051ba29f2982a8de78e945f0abaf191376122a1563185a90213a26c5da77"
   }
  }
 },
 "nbformat": 4,
 "nbformat_minor": 4
}
