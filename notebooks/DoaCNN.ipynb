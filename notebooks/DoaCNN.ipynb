{
 "cells": [
  {
   "attachments": {},
   "cell_type": "markdown",
   "metadata": {},
   "source": [
    "# CNN model predictions"
   ]
  },
  {
   "attachments": {},
   "cell_type": "markdown",
   "metadata": {},
   "source": [
    "## Imports and Constants"
   ]
  },
  {
   "cell_type": "code",
   "execution_count": 2,
   "metadata": {},
   "outputs": [],
   "source": [
    "import numpy as np\n",
    "import pandas as pd\n",
    "\n",
    "from keras import Sequential\n",
    "from keras.layers import Input\n",
    "from keras.layers import Dense\n",
    "from keras.layers import Flatten\n",
    "from keras.layers import Dropout\n",
    "from keras.layers import Conv1D\n",
    "from keras.layers import MaxPooling1D\n",
    "from keras.models import save_model\n",
    "\n",
    "import matplotlib.pyplot as plt\n",
    "import seaborn as sns\n",
    "\n",
    "from sklearn.metrics import confusion_matrix\n",
    "from sklearn.preprocessing import OneHotEncoder\n",
    "\n",
    "GENERATE_DATA_FOR_COMPARISON = False"
   ]
  },
  {
   "attachments": {},
   "cell_type": "markdown",
   "metadata": {},
   "source": [
    "## Utils"
   ]
  },
  {
   "cell_type": "code",
   "execution_count": 3,
   "metadata": {},
   "outputs": [],
   "source": [
    "def plot_cm(y_true, y_pred, class_names, font_scale=0.8):\n",
    "    # Plot the confusion matrix\n",
    "\n",
    "    cm = confusion_matrix(y_true, y_pred, normalize='true')    \n",
    "    fig, ax = plt.subplots(figsize=(24, 20)) \n",
    "\n",
    "    cmap = sns.diverging_palette(220, 20, sep=20, as_cmap=True)\n",
    "    ax = sns.heatmap(cm, cmap=cmap, annot=False, linewidth=0.01, fmt=\".3f\", ax=ax)\n",
    "\n",
    "    plt.ylabel('Actual', fontsize=40)\n",
    "    plt.xlabel('Predicted', fontsize=40)\n",
    "    ax.set_xticklabels(class_names, fontsize=24)\n",
    "    ax.set_yticklabels(class_names, rotation=0, fontsize=24)\n",
    "    cbar = ax.collections[0].colorbar\n",
    "    cbar.ax.tick_params(labelsize=40)\n",
    "    plt.show()\n",
    "    \n",
    "    \n",
    "def rmse(y_true, y_pred):\n",
    "    # Calculate the root mean square error\n",
    "\n",
    "    y_true, y_pred = np.array(y_true), np.array(y_pred)\n",
    "    total = sum(min(abs(y_t - y_p), (360 - abs(y_t - y_p))) ** 2 for y_t, y_p in zip(y_true, y_pred))\n",
    "    rms = ((total / len(y_true)) ** 0.5)\n",
    "    \n",
    "    if type(rms) == np.ndarray:\n",
    "        rms = rms[0]\n",
    "        \n",
    "    return round(rms, 3)"
   ]
  },
  {
   "cell_type": "code",
   "execution_count": 4,
   "metadata": {},
   "outputs": [],
   "source": [
    "def one_hot_encode(encoder, y_train, y_validation, y_test):    \n",
    "    y_train = y_train.reshape(-1, 1)\n",
    "    y_validation = y_validation.reshape(-1, 1)\n",
    "    y_test = y_test.reshape(-1, 1)\n",
    "    \n",
    "    # One-hot encode training and testing labels\n",
    "    enc = encoder.fit(y_train)\n",
    "    y_train = enc.transform(y_train)\n",
    "    y_validation = enc.transform(y_validation)\n",
    "    y_test = enc.transform(y_test)\n",
    "    \n",
    "    return y_train, y_validation, y_test\n",
    "\n",
    "\n",
    "def create_whole_dataset(df_train, df_validation, df_test, encoder, room=None, dist=None):\n",
    "    if room:\n",
    "        df_test = df_test[df_test.room == room]\n",
    "    if dist:\n",
    "        df_test = df_test[df_test.dist == dist]\n",
    "    \n",
    "    # Create train/test observations\n",
    "    X_train = df_train.drop(columns=['dist', 'room', 'label']).values\n",
    "    X_validation = df_validation.drop(columns=['dist', 'room', 'label']).values\n",
    "    X_test = df_test.drop(columns=['dist', 'room', 'label']).values\n",
    "    \n",
    "    # Create train/test labels\n",
    "    y_train, y_validation, y_test = one_hot_encode(\n",
    "        encoder, df_train['label'].values, df_validation['label'].values, df_test['label'].values)\n",
    "    \n",
    "    return X_train, X_validation, y_train, X_test, y_validation, y_test"
   ]
  },
  {
   "cell_type": "code",
   "execution_count": 5,
   "metadata": {},
   "outputs": [],
   "source": [
    "df_train = pd.read_csv('../training_data/azimuth_train_dataset.csv', index_col=[0])\n",
    "df_validation = pd.read_csv('../training_data/azimuth_validation_dataset.csv', index_col=[0])\n",
    "df_test = pd.read_csv('../training_data/azimuth_test_dataset.csv', index_col=[0])\n",
    "\n",
    "encoder = OneHotEncoder(handle_unknown='ignore', sparse_output=False)\n",
    "encoder.fit([[label] for label in df_train['label']])\n",
    "X_train, X_validation, y_train, X_test, y_validation, y_test = create_whole_dataset(df_train, df_validation, df_test, encoder)"
   ]
  },
  {
   "cell_type": "code",
   "execution_count": 6,
   "metadata": {},
   "outputs": [
    {
     "data": {
      "text/plain": [
       "((57593, 21), (57593, 19), (1406, 21), (1406, 19), (2166, 21), (2166, 19))"
      ]
     },
     "execution_count": 6,
     "metadata": {},
     "output_type": "execute_result"
    }
   ],
   "source": [
    "# X_ holds (len(df), len(timestep)), y_ hols(len(df), [0..0] of #angle values; 1 when angle occurs)\n",
    "X_train.shape, y_train.shape, X_validation.shape, y_validation.shape,  X_test.shape, y_test.shape"
   ]
  },
  {
   "attachments": {},
   "cell_type": "markdown",
   "metadata": {},
   "source": [
    "## CNN"
   ]
  },
  {
   "cell_type": "code",
   "execution_count": 7,
   "metadata": {},
   "outputs": [],
   "source": [
    "# Fit model\n",
    "epochs, batch_size, verbose = 10, 64, 1\n",
    "\n",
    "def create_simple_model(X_train, y_train):\n",
    "    n_timesteps, n_features, n_outputs = X_train.shape[1], 1, y_train.shape[1]\n",
    "\n",
    "    # Init model\n",
    "    model = Sequential()\n",
    "\n",
    "    # Add layers\n",
    "    model.add(Conv1D(filters=32, kernel_size=2, activation='relu', input_shape=(n_timesteps, n_features), padding='same'))\n",
    "    model.add(Flatten())   # 1D array\n",
    "    model.add(Dense(n_outputs, activation='softmax'))    \n",
    "    model.compile(loss='categorical_crossentropy', optimizer='adam', metrics=['accuracy'])\n",
    "\n",
    "    model.summary()\n",
    "\n",
    "    history = model.fit(X_train, y_train, epochs=epochs, batch_size=batch_size, verbose=verbose, validation_data=(X_validation, y_validation))\n",
    "    \n",
    "    return model, history"
   ]
  },
  {
   "cell_type": "code",
   "execution_count": 8,
   "metadata": {},
   "outputs": [],
   "source": [
    "# Fit model\n",
    "epochs, batch_size, verbose = 25, 64, 1\n",
    "\n",
    "def create_model(X_train, y_train):\n",
    "    n_timesteps, n_features, n_outputs = X_train.shape[1], 1, y_train.shape[1]\n",
    "\n",
    "    # Init model\n",
    "    model = Sequential()\n",
    "\n",
    "    # Add layers\n",
    "    model.add(Conv1D(filters=32, kernel_size=3, activation='relu', input_shape=(n_timesteps, n_features), padding='same'))\n",
    "    model.add(Conv1D(filters=32, kernel_size=3, activation='relu', padding='same'))\n",
    "    model.add(Dropout(0.5))\n",
    "    model.add(MaxPooling1D(pool_size=1))\n",
    "    model.add(Flatten())   # 1D array\n",
    "    model.add(Dense(512, activation='linear'))\n",
    "    model.add(Dense(n_outputs, activation='softmax'))   \n",
    "    model.compile(loss='categorical_crossentropy', optimizer='adam', metrics=['accuracy'])\n",
    "\n",
    "    history = model.fit(X_train, y_train, epochs=epochs, batch_size=batch_size, verbose=verbose, validation_data=(X_validation, y_validation))\n",
    "    \n",
    "    return model, history"
   ]
  },
  {
   "cell_type": "code",
   "execution_count": 10,
   "metadata": {},
   "outputs": [
    {
     "name": "stdout",
     "output_type": "stream",
     "text": [
      "Epoch 1/25\n",
      "900/900 [==============================] - 7s 7ms/step - loss: 0.6432 - accuracy: 0.7916 - val_loss: 0.6174 - val_accuracy: 0.7895\n",
      "Epoch 2/25\n",
      "900/900 [==============================] - 6s 6ms/step - loss: 0.4688 - accuracy: 0.8394 - val_loss: 0.5850 - val_accuracy: 0.7952\n",
      "Epoch 3/25\n",
      "900/900 [==============================] - 5s 6ms/step - loss: 0.4497 - accuracy: 0.8468 - val_loss: 0.5776 - val_accuracy: 0.7987\n",
      "Epoch 4/25\n",
      "900/900 [==============================] - 5s 6ms/step - loss: 0.4410 - accuracy: 0.8499 - val_loss: 0.5614 - val_accuracy: 0.8001\n",
      "Epoch 5/25\n",
      "900/900 [==============================] - 5s 6ms/step - loss: 0.4271 - accuracy: 0.8534 - val_loss: 0.5560 - val_accuracy: 0.7966\n",
      "Epoch 6/25\n",
      "900/900 [==============================] - 6s 7ms/step - loss: 0.4288 - accuracy: 0.8531 - val_loss: 0.5578 - val_accuracy: 0.7959\n",
      "Epoch 7/25\n",
      "900/900 [==============================] - 6s 6ms/step - loss: 0.4237 - accuracy: 0.8529 - val_loss: 0.5439 - val_accuracy: 0.8129\n",
      "Epoch 8/25\n",
      "900/900 [==============================] - 5s 6ms/step - loss: 0.4170 - accuracy: 0.8555 - val_loss: 0.5448 - val_accuracy: 0.8101\n",
      "Epoch 9/25\n",
      "900/900 [==============================] - 5s 6ms/step - loss: 0.4143 - accuracy: 0.8574 - val_loss: 0.5353 - val_accuracy: 0.8122\n",
      "Epoch 10/25\n",
      "900/900 [==============================] - 5s 6ms/step - loss: 0.4134 - accuracy: 0.8583 - val_loss: 0.5397 - val_accuracy: 0.8051\n",
      "Epoch 11/25\n",
      "900/900 [==============================] - 5s 6ms/step - loss: 0.4109 - accuracy: 0.8579 - val_loss: 0.5579 - val_accuracy: 0.7923\n",
      "Epoch 12/25\n",
      "900/900 [==============================] - 5s 6ms/step - loss: 0.4095 - accuracy: 0.8576 - val_loss: 0.5401 - val_accuracy: 0.8073\n",
      "Epoch 13/25\n",
      "900/900 [==============================] - 6s 6ms/step - loss: 0.4055 - accuracy: 0.8592 - val_loss: 0.5317 - val_accuracy: 0.8122\n",
      "Epoch 14/25\n",
      "900/900 [==============================] - 6s 7ms/step - loss: 0.4049 - accuracy: 0.8607 - val_loss: 0.5356 - val_accuracy: 0.8080\n",
      "Epoch 15/25\n",
      "900/900 [==============================] - 6s 7ms/step - loss: 0.4028 - accuracy: 0.8605 - val_loss: 0.5233 - val_accuracy: 0.8080\n",
      "Epoch 16/25\n",
      "900/900 [==============================] - 6s 6ms/step - loss: 0.4018 - accuracy: 0.8609 - val_loss: 0.5303 - val_accuracy: 0.8137\n",
      "Epoch 17/25\n",
      "900/900 [==============================] - 6s 6ms/step - loss: 0.3982 - accuracy: 0.8613 - val_loss: 0.5407 - val_accuracy: 0.7973\n",
      "Epoch 18/25\n",
      "900/900 [==============================] - 5s 6ms/step - loss: 0.3958 - accuracy: 0.8626 - val_loss: 0.5315 - val_accuracy: 0.8087\n",
      "Epoch 19/25\n",
      "900/900 [==============================] - 6s 7ms/step - loss: 0.3960 - accuracy: 0.8617 - val_loss: 0.5278 - val_accuracy: 0.8087\n",
      "Epoch 20/25\n",
      "900/900 [==============================] - 6s 7ms/step - loss: 0.3953 - accuracy: 0.8633 - val_loss: 0.5321 - val_accuracy: 0.8186\n",
      "Epoch 21/25\n",
      "900/900 [==============================] - 6s 6ms/step - loss: 0.3948 - accuracy: 0.8638 - val_loss: 0.5351 - val_accuracy: 0.8065\n",
      "Epoch 22/25\n",
      "900/900 [==============================] - 6s 6ms/step - loss: 0.3894 - accuracy: 0.8643 - val_loss: 0.5177 - val_accuracy: 0.8144\n",
      "Epoch 23/25\n",
      "900/900 [==============================] - 6s 7ms/step - loss: 0.3930 - accuracy: 0.8629 - val_loss: 0.5240 - val_accuracy: 0.8058\n",
      "Epoch 24/25\n",
      "900/900 [==============================] - 6s 6ms/step - loss: 0.3908 - accuracy: 0.8642 - val_loss: 0.5338 - val_accuracy: 0.8058\n",
      "Epoch 25/25\n",
      "900/900 [==============================] - 6s 6ms/step - loss: 0.3905 - accuracy: 0.8652 - val_loss: 0.5139 - val_accuracy: 0.8158\n"
     ]
    }
   ],
   "source": [
    "model, history = create_model(X_train, y_train)"
   ]
  },
  {
   "cell_type": "code",
   "execution_count": null,
   "metadata": {},
   "outputs": [
    {
     "name": "stdout",
     "output_type": "stream",
     "text": [
      "Model: \"sequential_4\"\n",
      "_________________________________________________________________\n",
      " Layer (type)                Output Shape              Param #   \n",
      "=================================================================\n",
      " conv1d_8 (Conv1D)           (None, 21, 32)            128       \n",
      "                                                                 \n",
      " conv1d_9 (Conv1D)           (None, 21, 32)            3104      \n",
      "                                                                 \n",
      " dropout_4 (Dropout)         (None, 21, 32)            0         \n",
      "                                                                 \n",
      " max_pooling1d_4 (MaxPooling  (None, 21, 32)           0         \n",
      " 1D)                                                             \n",
      "                                                                 \n",
      " flatten_4 (Flatten)         (None, 672)               0         \n",
      "                                                                 \n",
      " dense_8 (Dense)             (None, 512)               344576    \n",
      "                                                                 \n",
      " dense_9 (Dense)             (None, 19)                9747      \n",
      "                                                                 \n",
      "=================================================================\n",
      "Total params: 357,555\n",
      "Trainable params: 357,555\n",
      "Non-trainable params: 0\n",
      "_________________________________________________________________\n"
     ]
    }
   ],
   "source": [
    "model.summary()"
   ]
  },
  {
   "cell_type": "code",
   "execution_count": null,
   "metadata": {},
   "outputs": [
    {
     "data": {
      "text/plain": [
       "<matplotlib.legend.Legend at 0x188d03f7670>"
      ]
     },
     "execution_count": 47,
     "metadata": {},
     "output_type": "execute_result"
    },
    {
     "data": {
      "image/png": "[encoded data removed]",
      "text/plain": [
       "<Figure size 640x480 with 1 Axes>"
      ]
     },
     "metadata": {},
     "output_type": "display_data"
    }
   ],
   "source": [
    "plt.plot(history.history['accuracy'], label='accuracy')\n",
    "plt.plot(history.history['loss'], label = 'loss')\n",
    "plt.xlabel('Epoch')\n",
    "plt.ylabel('Accuracy')\n",
    "plt.ylim([0, 1])\n",
    "plt.legend(loc='lower right')"
   ]
  },
  {
   "cell_type": "code",
   "execution_count": null,
   "metadata": {},
   "outputs": [
    {
     "name": "stdout",
     "output_type": "stream",
     "text": [
      "You must install pydot (`pip install pydot`) and install graphviz (see instructions at https://graphviz.gitlab.io/download/) for plot_model to work.\n"
     ]
    }
   ],
   "source": [
    "import keras\n",
    "\n",
    "keras.utils.plot_model(model,to_file=\"model.png\",show_shapes=True,\n",
    "                       show_dtype=False,show_layer_names=True,rankdir=\"TB\",\n",
    "                       expand_nested=True,dpi=96,layer_range=None,\n",
    "                       show_layer_activations=True,)"
   ]
  },
  {
   "cell_type": "code",
   "execution_count": null,
   "metadata": {},
   "outputs": [],
   "source": [
    "# Test model\n",
    "# Get more test sets\n",
    "loss, accuracy = model.evaluate(X_test, y_test, batch_size=batch_size, verbose=verbose)\n",
    "\n",
    "y_pred_nn = model.predict(X_test)\n",
    "y_pred_nn = encoder.inverse_transform(y_pred_nn)\n",
    "y_true_nn = encoder.inverse_transform(y_test)\n",
    "plot_cm(y_true_nn, y_pred_nn, np.unique(y_true_nn))\n",
    "print(f'Accuracy: {round(accuracy, 4)}')\n",
    "print(f'RMSE: {rmse(y_true_nn, y_pred_nn)}')"
   ]
  },
  {
   "cell_type": "code",
   "execution_count": null,
   "metadata": {},
   "outputs": [],
   "source": [
    "# Save model\n",
    "save_model(model, '../models/saved_model')"
   ]
  },
  {
   "attachments": {},
   "cell_type": "markdown",
   "metadata": {},
   "source": [
    "## Get visualization data"
   ]
  },
  {
   "cell_type": "code",
   "execution_count": 50,
   "metadata": {},
   "outputs": [],
   "source": [
    "# Chage format of estimations\n",
    "inter_true = y_true_nn.tolist()\n",
    "inter_pred = y_pred_nn.tolist()\n",
    "y_true, y_pred = [],[]\n",
    "\n",
    "for i in range(len(inter_true)):\n",
    "    y_true.append(inter_true[i][0])\n",
    "    y_pred.append(inter_pred[i][0]) "
   ]
  },
  {
   "cell_type": "code",
   "execution_count": 51,
   "metadata": {},
   "outputs": [],
   "source": [
    "# Save y_true, y_pred to .csv\n",
    "if GENERATE_DATA_FOR_COMPARISON:\n",
    "    data = {\"y_true\": y_true, \"y_pred\": y_pred}\n",
    "    df = pd.DataFrame(data)\n",
    "    df.to_csv('../comparison/CNN_spectrum.csv', index=False)"
   ]
  },
  {
   "cell_type": "code",
   "execution_count": 52,
   "metadata": {},
   "outputs": [],
   "source": [
    "# Create dataset for the three axis graph\n",
    "if GENERATE_DATA_FOR_COMPARISON:\n",
    "    df = pd.DataFrame(columns=['y_true', 'y_pred'])\n",
    "\n",
    "    for i in range(len(y_true)):\n",
    "        if y_true[i] in df['y_true'].values:\n",
    "            get_current_value = df.loc[df['y_true'] == y_true[i], 'y_pred'].values\n",
    "            df.loc[df['y_true'] == y_true[i], 'y_pred'] = round(np.average([get_current_value[0], y_pred[i]])/ 5) * 5\n",
    "        else: \n",
    "            df.loc[len(df)] = [y_true[i], y_pred[i]]\n",
    "\n",
    "    df = df.sort_values(by=['y_true'])\n",
    "    df.to_csv('../comparison/CNN_data.csv', index=False)"
   ]
  },
  {
   "cell_type": "code",
   "execution_count": 53,
   "metadata": {},
   "outputs": [
    {
     "data": {
      "image/png": "[encoded data removed]",
      "text/plain": [
       "<Figure size 640x480 with 1 Axes>"
      ]
     },
     "metadata": {},
     "output_type": "display_data"
    }
   ],
   "source": [
    "plt.plot(history.history['loss'])\n",
    "plt.plot(history.history['val_loss'])\n",
    "plt.title('Model Loss')\n",
    "plt.xlabel('Epoch')\n",
    "plt.ylabel('Loss')\n",
    "plt.legend(['train', 'test'])\n",
    "plt.show()"
   ]
  }
 ],
 "metadata": {
  "kernelspec": {
   "display_name": "Python 3.10.7 64-bit",
   "language": "python",
   "name": "python3"
  },
  "language_info": {
   "codemirror_mode": {
    "name": "ipython",
    "version": 3
   },
   "file_extension": ".py",
   "mimetype": "text/x-python",
   "name": "python",
   "nbconvert_exporter": "python",
   "pygments_lexer": "ipython3",
   "version": "3.10.10"
  },
  "vscode": {
   "interpreter": {
    "hash": "26de051ba29f2982a8de78e945f0abaf191376122a1563185a90213a26c5da77"
   }
  }
 },
 "nbformat": 4,
 "nbformat_minor": 4
}
