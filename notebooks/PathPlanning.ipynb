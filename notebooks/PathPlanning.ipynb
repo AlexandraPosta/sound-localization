{
 "cells": [
  {
   "attachments": {},
   "cell_type": "markdown",
   "metadata": {},
   "source": [
    "# Path planning application"
   ]
  },
  {
   "attachments": {},
   "cell_type": "markdown",
   "metadata": {},
   "source": [
    "## Imports and constants"
   ]
  },
  {
   "cell_type": "code",
   "execution_count": 11,
   "metadata": {},
   "outputs": [],
   "source": [
    "import math\n",
    "import time\n",
    "\n",
    "import numpy as np\n",
    "from scipy.io import wavfile\n",
    "from matplotlib import pyplot as plt, patches\n",
    "from matplotlib.lines import Line2D\n",
    "import pandas as pd\n",
    "\n",
    "import pyroomacoustics as pra\n",
    "from pyroomacoustics.utilities import normalize\n",
    "\n",
    "from keras.models import load_model\n",
    "from sklearn.preprocessing import OneHotEncoder\n",
    "\n",
    "from itertools import combinations\n",
    "\n",
    "C = 343.                                                 \n",
    "NFFT = 256   \n",
    "ROOM_DIM = [5.,5.]\n",
    "SNR = 0.001                                               \n",
    "\n",
    "AUDIO_PATH = '..\\\\data\\\\original\\\\arctic_a0200.wav'"
   ]
  },
  {
   "attachments": {},
   "cell_type": "markdown",
   "metadata": {},
   "source": [
    "## Utils"
   ]
  },
  {
   "attachments": {},
   "cell_type": "markdown",
   "metadata": {},
   "source": [
    "### CNN\n",
    "\n",
    "To predict using CNN:\n",
    "- load the CNN model as:        \n",
    "`\n",
    "model = load_model('../models/INSERT_MODEL_NAME', compile = True) \n",
    "`\n",
    "\n",
    "- create GCC_PHAT matrix frim .wav file:        \n",
    "`\n",
    "X = create_observations(INSER_SIGNAL, INSERT_FRAMES)\n",
    "`\n",
    "\n",
    "- get prediction in degrees:        \n",
    "`\n",
    "encoder = encode()\n",
    "`                                               \n",
    "`\n",
    "pred = get_CNN_prediction(X, model, encoder)\n",
    "`"
   ]
  },
  {
   "cell_type": "code",
   "execution_count": 12,
   "metadata": {},
   "outputs": [],
   "source": [
    "# CNN\n",
    "def gcc_phat(x_1, x_2, FS=16000, interp=1):    \n",
    "    n = len(x_1) + len(x_2) - 1\n",
    "    n += 1 if n % 2 else 0\n",
    "    \n",
    "    # Fourier transforms of the two signals\n",
    "    X_1 = np.fft.rfft(x_1, n=n)\n",
    "    X_2 = np.fft.rfft(x_2, n=n)\n",
    "    \n",
    "    # Normalize by the magnitude of FFT - because PHAT\n",
    "    np.divide(X_1, np.abs(X_1), X_1, where=np.abs(X_1) != 0)\n",
    "    np.divide(X_2, np.abs(X_2), X_2, where=np.abs(X_2) != 0)\n",
    "    \n",
    "    # GCC-PHAT = [X_1(f)X_2*(f)] / |X_1(f)X_2*(f)|\n",
    "    # See Knapp and Carter (1976) for reference\n",
    "    CC = X_1 * np.conj(X_2)\n",
    "    cc = np.fft.irfft(CC, n=n * interp)\n",
    "        \n",
    "    # Maximum delay between a pair of microphones,\n",
    "    # expressed in a number of samples.\n",
    "    # 0.2 m is the distance between the micropones and \n",
    "    # 340 m/s is assumed to be the speed of sound.\n",
    "    max_len = math.ceil(0.2 / 340 * FS * interp)\n",
    "    \n",
    "    # Trim the cc vector to only include a \n",
    "    # small number of samples around the origin\n",
    "    cc = np.concatenate((cc[-max_len:], cc[:max_len+1]))\n",
    "    \n",
    "    # Return the cross correlation\n",
    "    return cc\n",
    "\n",
    "\n",
    "def compute_gcc_matrix(observation, fs, interp=1):    \n",
    "    # Initialize a transformed observation, that will be populated with GCC vectors\n",
    "    # of the observation\n",
    "    transformed_observation = []\n",
    "\n",
    "    # Compute GCC for every pair of microphones\n",
    "    mic_1, mic_2 = [0, 1]\n",
    "    x_1 = observation[:, mic_1]\n",
    "    x_2 = observation[:, mic_2]\n",
    "\n",
    "    gcc = gcc_phat(x_1, x_2, FS=fs, interp=interp)\n",
    "\n",
    "    # Add the GCC vector to the GCC matrix\n",
    "    transformed_observation.append(gcc)    \n",
    "        \n",
    "    return transformed_observation\n",
    "\n",
    "\n",
    "def create_observations(wav_signals, fs, samples=20, step=5, interp=1):\n",
    "    # Lists of observations and labels that will be populated\n",
    "    X = []\n",
    "    \n",
    "    # Loop through the signal frame and take subframes\n",
    "    for i in range(0, len(wav_signals) - samples + 1, step):\n",
    "        # Extract the observation from subframe\n",
    "        observation = np.array(wav_signals[i : i + samples])\n",
    "              \n",
    "        # Transform observation into a GCC matrix\n",
    "        X.append(compute_gcc_matrix(observation, fs, interp=interp))\n",
    "\n",
    "    cols = [\n",
    "                f'mics{mic_1+1}{mic_2+1}_{i}' \n",
    "                    for mic_1, mic_2 in combinations(range(2), r=2) \n",
    "                        for i in range(np.shape(X)[2])\n",
    "            ]\n",
    "\n",
    "    df = pd.DataFrame(data=np.reshape(X, (len(X), -1)), columns=cols)\n",
    "    \n",
    "    return df\n",
    "\n",
    "\n",
    "def encode():\n",
    "    x = list(range(0, 180 + 1, 10))\n",
    "    encoder = OneHotEncoder(handle_unknown='ignore', sparse_output=False)\n",
    "    encoder.fit([[label] for label in x])\n",
    "    return encoder\n",
    "\n",
    "\n",
    "def get_CNN_prediction(X, model, encoder):\n",
    "    t0_cnn = time.time()\n",
    "    predictions = model.predict(X)\n",
    "    y_pred = encoder.inverse_transform(predictions)\n",
    "\n",
    "    t1_cnn = time.time()\n",
    "    print(f'CNN prediction time: {t1_cnn - t0_cnn:.4f}s')\n",
    "\n",
    "    predictions=[]\n",
    "    for i in y_pred:\n",
    "        predictions.append(int(i))\n",
    "\n",
    "    pred_degree = max(set(predictions), key=predictions.count)\n",
    "    pred_rad = math.pi - pred_degree*math.pi/180\n",
    "    \n",
    "    return pred_rad"
   ]
  },
  {
   "attachments": {},
   "cell_type": "markdown",
   "metadata": {},
   "source": [
    "### MUSIC\n",
    "\n",
    "- Run MUSIC by calling:                 \n",
    "`\n",
    "pred = MUSIC(INSERT_SIMUALATED_ROOM, INSERT_MICROPHONE, INSERT_SFFT_MATRIX, FRAMES)\n",
    "`"
   ]
  },
  {
   "cell_type": "code",
   "execution_count": 13,
   "metadata": {},
   "outputs": [],
   "source": [
    "def get_doa_MUSIC(room, microphones, fs):\n",
    "    X = pra.transform.stft.analysis(room.mic_array.signals.T, NFFT, NFFT // 2)\n",
    "    X = X.transpose([2, 1, 0])\n",
    "\n",
    "    # Construct the new DOA object and perform localization on the frames in X\n",
    "    t0_m = time.time()\n",
    "    doa = pra.doa.MUSIC(microphones, fs, NFFT, c=C, num_src=1)\n",
    "    doa.locate_sources(X)\n",
    "    pred = doa.azimuth_recon\n",
    "\n",
    "    if pred > np.pi:\n",
    "        pred = (2 * np.pi - pred)\n",
    "\n",
    "    t1_m = time.time()\n",
    "    print(f\"MUSIC time taken: {t1_m - t0_m:.4f}s\")\n",
    "\n",
    "    return pred"
   ]
  },
  {
   "attachments": {},
   "cell_type": "markdown",
   "metadata": {},
   "source": [
    "### Room"
   ]
  },
  {
   "cell_type": "code",
   "execution_count": 14,
   "metadata": {},
   "outputs": [],
   "source": [
    "def create_room(signal, fs, source_loc, centre_mic):\n",
    "    room = pra.ShoeBox(ROOM_DIM, fs=fs, max_order=0)\n",
    "    room.add_source(source_loc, signal=signal)\n",
    "\n",
    "    microphones = np.c_[[centre_mic[0]-0.1, centre_mic[1]], [centre_mic[0]+0.1, centre_mic[1]]]\n",
    "    room.add_microphone_array(microphones)\n",
    "\n",
    "    snr = 10*math.log10(2/SNR)\n",
    "    room.simulate()\n",
    "\n",
    "    return room, microphones\n",
    "\n",
    "class Model_pred():\n",
    "    def __init__(self, model, source_loc, centre_mic, colour):\n",
    "        self.room = None\n",
    "        self.microphones = None\n",
    "        self.centre_mic = centre_mic\n",
    "        self.success = False\n",
    "        self.source_loc = source_loc\n",
    "        self.colour = colour\n",
    "        self.model_name = model\n",
    "        self.fs = 16000\n",
    "\n",
    "        if self.model_name == 'CNN':\n",
    "            self.encoder = encode()\n",
    "            self.model = load_model('../models/saved_model', compile = True)\n",
    "\n",
    "\n",
    "    def get_room(self, signal, ax):\n",
    "        self.room, self.microphones = create_room(signal, self.fs, self.source_loc, self.centre_mic)\n",
    "        ax.add_patch(patches.Circle((self.centre_mic[0], self.centre_mic[1]), radius=0.05, edgecolor=self.colour, facecolor='none', linewidth=2))\n",
    "\n",
    "\n",
    "    def get_pred(self, ax):\n",
    "        pred = 0\n",
    "\n",
    "        if self.model_name == 'MUSIC':\n",
    "            pred = get_doa_MUSIC(self.room, self.microphones, self.fs)\n",
    "             \n",
    "        elif self.model_name == 'CNN':\n",
    "            data = self.room.mic_array.signals.T\n",
    "            data = np.array(normalize(data, bits=16), dtype=np.int16)\n",
    "            X = create_observations(data, self.fs)    \n",
    "            pred = get_CNN_prediction(X, self.model, self.encoder)\n",
    "            \n",
    "        else:\n",
    "            pass\n",
    "\n",
    "        self.process(ax, pred)\n",
    "\n",
    "\n",
    "    def process(self, ax, pred):\n",
    "        if (self.source_loc[0]-0.15 < self.centre_mic[0] < self.source_loc[0]+0.15 and \n",
    "            self.source_loc[1]-0.15 < self.centre_mic[1] < self.source_loc[1]+0.15):\n",
    "            self.success = True\n",
    "        elif (0.2 > self.centre_mic[0] > 4.8 or 0.2 > self.centre_mic[1] > 4.8):\n",
    "            self.success = True\n",
    "        else:\n",
    "            self.update_centre(ax, pred)\n",
    "\n",
    "\n",
    "    def update_centre(self, ax, pred):\n",
    "        x_align = self.centre_mic[0] + 0.3*np.cos(pred)\n",
    "        y_align = self.centre_mic[1] + 0.3*np.sin(pred)\n",
    "\n",
    "        if not x_align == False:\n",
    "            ax.add_patch(patches.FancyArrowPatch((float(self.centre_mic[0])+0.01, float(self.centre_mic[1]+0.01)), \n",
    "                                                (float(x_align)-0.01, float(y_align)-0.01), \n",
    "                                                mutation_scale=20,\n",
    "                                                alpha = 0.8, arrowstyle='->'))\n",
    "            \n",
    "            self.centre_mic = [x_align, y_align]"
   ]
  },
  {
   "attachments": {},
   "cell_type": "markdown",
   "metadata": {},
   "source": [
    "## Visualization"
   ]
  },
  {
   "cell_type": "code",
   "execution_count": 15,
   "metadata": {},
   "outputs": [
    {
     "name": "stdout",
     "output_type": "stream",
     "text": [
      "MUSIC time taken: 0.0085s\n",
      "370/370 [==============================] - 1s 3ms/step\n",
      "CNN prediction time: 1.3564s\n",
      "MUSIC time taken: 0.0105s\n",
      "370/370 [==============================] - 1s 3ms/step\n",
      "CNN prediction time: 1.1889s\n",
      "MUSIC time taken: 0.0102s\n"
     ]
    },
    {
     "name": "stderr",
     "output_type": "stream",
     "text": [
      "C:\\Users\\Alex\\AppData\\Roaming\\Python\\Python310\\site-packages\\pyroomacoustics\\utilities.py:196: RuntimeWarning: invalid value encountered in divide\n",
      "  s /= np.abs(s).max()\n",
      "C:\\Users\\Alex\\AppData\\Local\\Temp\\ipykernel_8772\\2984762217.py:42: RuntimeWarning: invalid value encountered in cast\n",
      "  data = np.array(normalize(data, bits=16), dtype=np.int16)\n"
     ]
    },
    {
     "name": "stdout",
     "output_type": "stream",
     "text": [
      "370/370 [==============================] - 1s 2ms/step\n",
      "CNN prediction time: 1.1283s\n",
      "MUSIC time taken: 0.0065s\n",
      "370/370 [==============================] - 1s 2ms/step\n",
      "CNN prediction time: 1.0976s\n",
      "MUSIC time taken: 0.0065s\n"
     ]
    },
    {
     "name": "stderr",
     "output_type": "stream",
     "text": [
      "C:\\Users\\Alex\\AppData\\Roaming\\Python\\Python310\\site-packages\\pyroomacoustics\\utilities.py:196: RuntimeWarning: invalid value encountered in divide\n",
      "  s /= np.abs(s).max()\n",
      "C:\\Users\\Alex\\AppData\\Local\\Temp\\ipykernel_8772\\2984762217.py:42: RuntimeWarning: invalid value encountered in cast\n",
      "  data = np.array(normalize(data, bits=16), dtype=np.int16)\n"
     ]
    },
    {
     "name": "stdout",
     "output_type": "stream",
     "text": [
      "370/370 [==============================] - 1s 3ms/step\n",
      "CNN prediction time: 1.1389s\n",
      "MUSIC time taken: 0.0075s\n",
      "370/370 [==============================] - 1s 2ms/step\n",
      "CNN prediction time: 0.9655s\n",
      "MUSIC time taken: 0.0075s\n"
     ]
    },
    {
     "name": "stderr",
     "output_type": "stream",
     "text": [
      "C:\\Users\\Alex\\AppData\\Roaming\\Python\\Python310\\site-packages\\pyroomacoustics\\utilities.py:196: RuntimeWarning: invalid value encountered in divide\n",
      "  s /= np.abs(s).max()\n",
      "C:\\Users\\Alex\\AppData\\Local\\Temp\\ipykernel_8772\\2984762217.py:42: RuntimeWarning: invalid value encountered in cast\n",
      "  data = np.array(normalize(data, bits=16), dtype=np.int16)\n"
     ]
    },
    {
     "name": "stdout",
     "output_type": "stream",
     "text": [
      "370/370 [==============================] - 1s 3ms/step\n",
      "CNN prediction time: 1.1622s\n",
      "MUSIC time taken: 0.0076s\n"
     ]
    },
    {
     "name": "stderr",
     "output_type": "stream",
     "text": [
      "C:\\Users\\Alex\\AppData\\Roaming\\Python\\Python310\\site-packages\\pyroomacoustics\\utilities.py:196: RuntimeWarning: invalid value encountered in divide\n",
      "  s /= np.abs(s).max()\n",
      "C:\\Users\\Alex\\AppData\\Local\\Temp\\ipykernel_8772\\2984762217.py:42: RuntimeWarning: invalid value encountered in cast\n",
      "  data = np.array(normalize(data, bits=16), dtype=np.int16)\n"
     ]
    },
    {
     "name": "stdout",
     "output_type": "stream",
     "text": [
      "370/370 [==============================] - 1s 2ms/step\n",
      "CNN prediction time: 0.9640s\n",
      "MUSIC time taken: 0.0121s\n",
      "370/370 [==============================] - 1s 2ms/step\n",
      "CNN prediction time: 1.0218s\n",
      "MUSIC time taken: 0.0074s\n"
     ]
    },
    {
     "name": "stderr",
     "output_type": "stream",
     "text": [
      "C:\\Users\\Alex\\AppData\\Roaming\\Python\\Python310\\site-packages\\pyroomacoustics\\utilities.py:196: RuntimeWarning: invalid value encountered in divide\n",
      "  s /= np.abs(s).max()\n",
      "C:\\Users\\Alex\\AppData\\Local\\Temp\\ipykernel_8772\\2984762217.py:42: RuntimeWarning: invalid value encountered in cast\n",
      "  data = np.array(normalize(data, bits=16), dtype=np.int16)\n"
     ]
    },
    {
     "name": "stdout",
     "output_type": "stream",
     "text": [
      "370/370 [==============================] - 1s 2ms/step\n",
      "CNN prediction time: 1.0433s\n",
      "MUSIC time taken: 0.0070s\n"
     ]
    },
    {
     "name": "stderr",
     "output_type": "stream",
     "text": [
      "C:\\Users\\Alex\\AppData\\Roaming\\Python\\Python310\\site-packages\\pyroomacoustics\\utilities.py:196: RuntimeWarning: invalid value encountered in divide\n",
      "  s /= np.abs(s).max()\n",
      "C:\\Users\\Alex\\AppData\\Local\\Temp\\ipykernel_8772\\2984762217.py:42: RuntimeWarning: invalid value encountered in cast\n",
      "  data = np.array(normalize(data, bits=16), dtype=np.int16)\n"
     ]
    },
    {
     "name": "stdout",
     "output_type": "stream",
     "text": [
      "370/370 [==============================] - 1s 2ms/step\n",
      "CNN prediction time: 0.9848s\n",
      "MUSIC time taken: 0.0070s\n",
      "370/370 [==============================] - 1s 2ms/step\n",
      "CNN prediction time: 1.0017s\n",
      "MUSIC time taken: 0.0084s\n"
     ]
    },
    {
     "name": "stderr",
     "output_type": "stream",
     "text": [
      "C:\\Users\\Alex\\AppData\\Roaming\\Python\\Python310\\site-packages\\pyroomacoustics\\utilities.py:196: RuntimeWarning: invalid value encountered in divide\n",
      "  s /= np.abs(s).max()\n",
      "C:\\Users\\Alex\\AppData\\Local\\Temp\\ipykernel_8772\\2984762217.py:42: RuntimeWarning: invalid value encountered in cast\n",
      "  data = np.array(normalize(data, bits=16), dtype=np.int16)\n"
     ]
    },
    {
     "name": "stdout",
     "output_type": "stream",
     "text": [
      "370/370 [==============================] - 1s 2ms/step\n",
      "CNN prediction time: 1.0504s\n",
      "MUSIC time taken: 0.0075s\n"
     ]
    },
    {
     "name": "stderr",
     "output_type": "stream",
     "text": [
      "C:\\Users\\Alex\\AppData\\Roaming\\Python\\Python310\\site-packages\\pyroomacoustics\\utilities.py:196: RuntimeWarning: invalid value encountered in divide\n",
      "  s /= np.abs(s).max()\n",
      "C:\\Users\\Alex\\AppData\\Local\\Temp\\ipykernel_8772\\2984762217.py:42: RuntimeWarning: invalid value encountered in cast\n",
      "  data = np.array(normalize(data, bits=16), dtype=np.int16)\n"
     ]
    },
    {
     "name": "stdout",
     "output_type": "stream",
     "text": [
      "370/370 [==============================] - 1s 2ms/step\n",
      "CNN prediction time: 0.9763s\n",
      "MUSIC time taken: 0.0075s\n",
      "370/370 [==============================] - 1s 2ms/step\n",
      "CNN prediction time: 0.9896s\n",
      "MUSIC time taken: 0.0070s\n"
     ]
    },
    {
     "name": "stderr",
     "output_type": "stream",
     "text": [
      "C:\\Users\\Alex\\AppData\\Roaming\\Python\\Python310\\site-packages\\pyroomacoustics\\utilities.py:196: RuntimeWarning: invalid value encountered in divide\n",
      "  s /= np.abs(s).max()\n",
      "C:\\Users\\Alex\\AppData\\Local\\Temp\\ipykernel_8772\\2984762217.py:42: RuntimeWarning: invalid value encountered in cast\n",
      "  data = np.array(normalize(data, bits=16), dtype=np.int16)\n"
     ]
    },
    {
     "name": "stdout",
     "output_type": "stream",
     "text": [
      "370/370 [==============================] - 1s 3ms/step\n",
      "CNN prediction time: 1.1881s\n",
      "MUSIC time taken: 0.0085s\n",
      "370/370 [==============================] - 1s 2ms/step\n",
      "CNN prediction time: 1.0398s\n",
      "MUSIC time taken: 0.0126s\n"
     ]
    },
    {
     "name": "stderr",
     "output_type": "stream",
     "text": [
      "C:\\Users\\Alex\\AppData\\Roaming\\Python\\Python310\\site-packages\\pyroomacoustics\\utilities.py:196: RuntimeWarning: invalid value encountered in divide\n",
      "  s /= np.abs(s).max()\n",
      "C:\\Users\\Alex\\AppData\\Local\\Temp\\ipykernel_8772\\2984762217.py:42: RuntimeWarning: invalid value encountered in cast\n",
      "  data = np.array(normalize(data, bits=16), dtype=np.int16)\n"
     ]
    },
    {
     "name": "stdout",
     "output_type": "stream",
     "text": [
      "370/370 [==============================] - 1s 2ms/step\n",
      "CNN prediction time: 1.0290s\n",
      "MUSIC time taken: 0.0090s\n",
      "371/371 [==============================] - 1s 2ms/step\n",
      "CNN prediction time: 1.1726s\n",
      "MUSIC time taken: 0.0070s\n"
     ]
    },
    {
     "name": "stderr",
     "output_type": "stream",
     "text": [
      "C:\\Users\\Alex\\AppData\\Roaming\\Python\\Python310\\site-packages\\pyroomacoustics\\utilities.py:196: RuntimeWarning: invalid value encountered in divide\n",
      "  s /= np.abs(s).max()\n",
      "C:\\Users\\Alex\\AppData\\Local\\Temp\\ipykernel_8772\\2984762217.py:42: RuntimeWarning: invalid value encountered in cast\n",
      "  data = np.array(normalize(data, bits=16), dtype=np.int16)\n"
     ]
    },
    {
     "name": "stdout",
     "output_type": "stream",
     "text": [
      "371/371 [==============================] - 1s 2ms/step\n",
      "CNN prediction time: 0.9886s\n",
      "MUSIC time taken: 0.0105s\n",
      "371/371 [==============================] - 1s 2ms/step\n",
      "CNN prediction time: 1.0130s\n",
      "MUSIC time taken: 0.0115s\n"
     ]
    },
    {
     "name": "stderr",
     "output_type": "stream",
     "text": [
      "C:\\Users\\Alex\\AppData\\Roaming\\Python\\Python310\\site-packages\\pyroomacoustics\\utilities.py:196: RuntimeWarning: invalid value encountered in divide\n",
      "  s /= np.abs(s).max()\n",
      "C:\\Users\\Alex\\AppData\\Local\\Temp\\ipykernel_8772\\2984762217.py:42: RuntimeWarning: invalid value encountered in cast\n",
      "  data = np.array(normalize(data, bits=16), dtype=np.int16)\n"
     ]
    },
    {
     "name": "stdout",
     "output_type": "stream",
     "text": [
      "371/371 [==============================] - 1s 2ms/step\n",
      "CNN prediction time: 1.0637s\n",
      "MUSIC time taken: 0.0075s\n"
     ]
    },
    {
     "name": "stderr",
     "output_type": "stream",
     "text": [
      "C:\\Users\\Alex\\AppData\\Roaming\\Python\\Python310\\site-packages\\pyroomacoustics\\utilities.py:196: RuntimeWarning: invalid value encountered in divide\n",
      "  s /= np.abs(s).max()\n",
      "C:\\Users\\Alex\\AppData\\Local\\Temp\\ipykernel_8772\\2984762217.py:42: RuntimeWarning: invalid value encountered in cast\n",
      "  data = np.array(normalize(data, bits=16), dtype=np.int16)\n"
     ]
    },
    {
     "name": "stdout",
     "output_type": "stream",
     "text": [
      "371/371 [==============================] - 1s 2ms/step\n",
      "CNN prediction time: 1.0473s\n",
      "MUSIC time taken: 0.0120s\n",
      "234/371 [=================>............] - ETA: 0s"
     ]
    },
    {
     "ename": "KeyboardInterrupt",
     "evalue": "",
     "output_type": "error",
     "traceback": [
      "\u001b[1;31m---------------------------------------------------------------------------\u001b[0m",
      "\u001b[1;31mKeyboardInterrupt\u001b[0m                         Traceback (most recent call last)",
      "Cell \u001b[1;32mIn[15], line 35\u001b[0m\n\u001b[0;32m     33\u001b[0m \u001b[38;5;66;03m# Localize sound\u001b[39;00m\n\u001b[0;32m     34\u001b[0m MUSIC\u001b[38;5;241m.\u001b[39mget_pred(ax)\n\u001b[1;32m---> 35\u001b[0m \u001b[43mCNN\u001b[49m\u001b[38;5;241;43m.\u001b[39;49m\u001b[43mget_pred\u001b[49m\u001b[43m(\u001b[49m\u001b[43max\u001b[49m\u001b[43m)\u001b[49m\n\u001b[0;32m     37\u001b[0m i \u001b[38;5;241m+\u001b[39m\u001b[38;5;241m=\u001b[39m \u001b[38;5;241m1\u001b[39m\n\u001b[0;32m     38\u001b[0m plt\u001b[38;5;241m.\u001b[39msavefig(\u001b[38;5;124m\"\u001b[39m\u001b[38;5;124m..\u001b[39m\u001b[38;5;130;01m\\\\\u001b[39;00m\u001b[38;5;124mpygame\u001b[39m\u001b[38;5;130;01m\\\\\u001b[39;00m\u001b[38;5;124mpath_ideal\u001b[39m\u001b[38;5;130;01m\\\\\u001b[39;00m\u001b[38;5;124mpath_ideal_\u001b[39m\u001b[38;5;132;01m%02d\u001b[39;00m\u001b[38;5;124m.png\u001b[39m\u001b[38;5;124m\"\u001b[39m\u001b[38;5;241m%\u001b[39mi)\n",
      "Cell \u001b[1;32mIn[14], line 44\u001b[0m, in \u001b[0;36mModel_pred.get_pred\u001b[1;34m(self, ax)\u001b[0m\n\u001b[0;32m     42\u001b[0m     data \u001b[38;5;241m=\u001b[39m np\u001b[38;5;241m.\u001b[39marray(normalize(data, bits\u001b[38;5;241m=\u001b[39m\u001b[38;5;241m16\u001b[39m), dtype\u001b[38;5;241m=\u001b[39mnp\u001b[38;5;241m.\u001b[39mint16)\n\u001b[0;32m     43\u001b[0m     X \u001b[38;5;241m=\u001b[39m create_observations(data, \u001b[38;5;28mself\u001b[39m\u001b[38;5;241m.\u001b[39mfs)    \n\u001b[1;32m---> 44\u001b[0m     pred \u001b[38;5;241m=\u001b[39m \u001b[43mget_CNN_prediction\u001b[49m\u001b[43m(\u001b[49m\u001b[43mX\u001b[49m\u001b[43m,\u001b[49m\u001b[43m \u001b[49m\u001b[38;5;28;43mself\u001b[39;49m\u001b[38;5;241;43m.\u001b[39;49m\u001b[43mmodel\u001b[49m\u001b[43m,\u001b[49m\u001b[43m \u001b[49m\u001b[38;5;28;43mself\u001b[39;49m\u001b[38;5;241;43m.\u001b[39;49m\u001b[43mencoder\u001b[49m\u001b[43m)\u001b[49m\n\u001b[0;32m     46\u001b[0m \u001b[38;5;28;01melse\u001b[39;00m:\n\u001b[0;32m     47\u001b[0m     \u001b[38;5;28;01mpass\u001b[39;00m\n",
      "Cell \u001b[1;32mIn[12], line 83\u001b[0m, in \u001b[0;36mget_CNN_prediction\u001b[1;34m(X, model, encoder)\u001b[0m\n\u001b[0;32m     81\u001b[0m \u001b[38;5;28;01mdef\u001b[39;00m \u001b[38;5;21mget_CNN_prediction\u001b[39m(X, model, encoder):\n\u001b[0;32m     82\u001b[0m     t0_cnn \u001b[38;5;241m=\u001b[39m time\u001b[38;5;241m.\u001b[39mtime()\n\u001b[1;32m---> 83\u001b[0m     predictions \u001b[38;5;241m=\u001b[39m \u001b[43mmodel\u001b[49m\u001b[38;5;241;43m.\u001b[39;49m\u001b[43mpredict\u001b[49m\u001b[43m(\u001b[49m\u001b[43mX\u001b[49m\u001b[43m)\u001b[49m\n\u001b[0;32m     84\u001b[0m     y_pred \u001b[38;5;241m=\u001b[39m encoder\u001b[38;5;241m.\u001b[39minverse_transform(predictions)\n\u001b[0;32m     86\u001b[0m     t1_cnn \u001b[38;5;241m=\u001b[39m time\u001b[38;5;241m.\u001b[39mtime()\n",
      "File \u001b[1;32m~\\AppData\\Roaming\\Python\\Python310\\site-packages\\keras\\utils\\traceback_utils.py:65\u001b[0m, in \u001b[0;36mfilter_traceback.<locals>.error_handler\u001b[1;34m(*args, **kwargs)\u001b[0m\n\u001b[0;32m     63\u001b[0m filtered_tb \u001b[38;5;241m=\u001b[39m \u001b[38;5;28;01mNone\u001b[39;00m\n\u001b[0;32m     64\u001b[0m \u001b[38;5;28;01mtry\u001b[39;00m:\n\u001b[1;32m---> 65\u001b[0m     \u001b[38;5;28;01mreturn\u001b[39;00m fn(\u001b[38;5;241m*\u001b[39margs, \u001b[38;5;241m*\u001b[39m\u001b[38;5;241m*\u001b[39mkwargs)\n\u001b[0;32m     66\u001b[0m \u001b[38;5;28;01mexcept\u001b[39;00m \u001b[38;5;167;01mException\u001b[39;00m \u001b[38;5;28;01mas\u001b[39;00m e:\n\u001b[0;32m     67\u001b[0m     filtered_tb \u001b[38;5;241m=\u001b[39m _process_traceback_frames(e\u001b[38;5;241m.\u001b[39m__traceback__)\n",
      "File \u001b[1;32m~\\AppData\\Roaming\\Python\\Python310\\site-packages\\keras\\engine\\training.py:2350\u001b[0m, in \u001b[0;36mModel.predict\u001b[1;34m(self, x, batch_size, verbose, steps, callbacks, max_queue_size, workers, use_multiprocessing)\u001b[0m\n\u001b[0;32m   2348\u001b[0m \u001b[38;5;28;01mfor\u001b[39;00m step \u001b[38;5;129;01min\u001b[39;00m data_handler\u001b[38;5;241m.\u001b[39msteps():\n\u001b[0;32m   2349\u001b[0m     callbacks\u001b[38;5;241m.\u001b[39mon_predict_batch_begin(step)\n\u001b[1;32m-> 2350\u001b[0m     tmp_batch_outputs \u001b[38;5;241m=\u001b[39m \u001b[38;5;28;43mself\u001b[39;49m\u001b[38;5;241;43m.\u001b[39;49m\u001b[43mpredict_function\u001b[49m\u001b[43m(\u001b[49m\u001b[43miterator\u001b[49m\u001b[43m)\u001b[49m\n\u001b[0;32m   2351\u001b[0m     \u001b[38;5;28;01mif\u001b[39;00m data_handler\u001b[38;5;241m.\u001b[39mshould_sync:\n\u001b[0;32m   2352\u001b[0m         context\u001b[38;5;241m.\u001b[39masync_wait()\n",
      "File \u001b[1;32m~\\AppData\\Roaming\\Python\\Python310\\site-packages\\tensorflow\\python\\util\\traceback_utils.py:150\u001b[0m, in \u001b[0;36mfilter_traceback.<locals>.error_handler\u001b[1;34m(*args, **kwargs)\u001b[0m\n\u001b[0;32m    148\u001b[0m filtered_tb \u001b[38;5;241m=\u001b[39m \u001b[38;5;28;01mNone\u001b[39;00m\n\u001b[0;32m    149\u001b[0m \u001b[38;5;28;01mtry\u001b[39;00m:\n\u001b[1;32m--> 150\u001b[0m   \u001b[38;5;28;01mreturn\u001b[39;00m fn(\u001b[38;5;241m*\u001b[39margs, \u001b[38;5;241m*\u001b[39m\u001b[38;5;241m*\u001b[39mkwargs)\n\u001b[0;32m    151\u001b[0m \u001b[38;5;28;01mexcept\u001b[39;00m \u001b[38;5;167;01mException\u001b[39;00m \u001b[38;5;28;01mas\u001b[39;00m e:\n\u001b[0;32m    152\u001b[0m   filtered_tb \u001b[38;5;241m=\u001b[39m _process_traceback_frames(e\u001b[38;5;241m.\u001b[39m__traceback__)\n",
      "File \u001b[1;32m~\\AppData\\Roaming\\Python\\Python310\\site-packages\\tensorflow\\python\\eager\\polymorphic_function\\polymorphic_function.py:880\u001b[0m, in \u001b[0;36mFunction.__call__\u001b[1;34m(self, *args, **kwds)\u001b[0m\n\u001b[0;32m    877\u001b[0m compiler \u001b[38;5;241m=\u001b[39m \u001b[38;5;124m\"\u001b[39m\u001b[38;5;124mxla\u001b[39m\u001b[38;5;124m\"\u001b[39m \u001b[38;5;28;01mif\u001b[39;00m \u001b[38;5;28mself\u001b[39m\u001b[38;5;241m.\u001b[39m_jit_compile \u001b[38;5;28;01melse\u001b[39;00m \u001b[38;5;124m\"\u001b[39m\u001b[38;5;124mnonXla\u001b[39m\u001b[38;5;124m\"\u001b[39m\n\u001b[0;32m    879\u001b[0m \u001b[38;5;28;01mwith\u001b[39;00m OptionalXlaContext(\u001b[38;5;28mself\u001b[39m\u001b[38;5;241m.\u001b[39m_jit_compile):\n\u001b[1;32m--> 880\u001b[0m   result \u001b[38;5;241m=\u001b[39m \u001b[38;5;28mself\u001b[39m\u001b[38;5;241m.\u001b[39m_call(\u001b[38;5;241m*\u001b[39margs, \u001b[38;5;241m*\u001b[39m\u001b[38;5;241m*\u001b[39mkwds)\n\u001b[0;32m    882\u001b[0m new_tracing_count \u001b[38;5;241m=\u001b[39m \u001b[38;5;28mself\u001b[39m\u001b[38;5;241m.\u001b[39mexperimental_get_tracing_count()\n\u001b[0;32m    883\u001b[0m without_tracing \u001b[38;5;241m=\u001b[39m (tracing_count \u001b[38;5;241m==\u001b[39m new_tracing_count)\n",
      "File \u001b[1;32m~\\AppData\\Roaming\\Python\\Python310\\site-packages\\tensorflow\\python\\eager\\polymorphic_function\\polymorphic_function.py:919\u001b[0m, in \u001b[0;36mFunction._call\u001b[1;34m(self, *args, **kwds)\u001b[0m\n\u001b[0;32m    916\u001b[0m \u001b[38;5;28mself\u001b[39m\u001b[38;5;241m.\u001b[39m_lock\u001b[38;5;241m.\u001b[39mrelease()\n\u001b[0;32m    917\u001b[0m \u001b[38;5;66;03m# In this case we have not created variables on the first call. So we can\u001b[39;00m\n\u001b[0;32m    918\u001b[0m \u001b[38;5;66;03m# run the first trace but we should fail if variables are created.\u001b[39;00m\n\u001b[1;32m--> 919\u001b[0m results \u001b[38;5;241m=\u001b[39m \u001b[38;5;28mself\u001b[39m\u001b[38;5;241m.\u001b[39m_variable_creation_fn(\u001b[38;5;241m*\u001b[39margs, \u001b[38;5;241m*\u001b[39m\u001b[38;5;241m*\u001b[39mkwds)\n\u001b[0;32m    920\u001b[0m \u001b[38;5;28;01mif\u001b[39;00m \u001b[38;5;28mself\u001b[39m\u001b[38;5;241m.\u001b[39m_created_variables \u001b[38;5;129;01mand\u001b[39;00m \u001b[38;5;129;01mnot\u001b[39;00m ALLOW_DYNAMIC_VARIABLE_CREATION:\n\u001b[0;32m    921\u001b[0m   \u001b[38;5;28;01mraise\u001b[39;00m \u001b[38;5;167;01mValueError\u001b[39;00m(\u001b[38;5;124m\"\u001b[39m\u001b[38;5;124mCreating variables on a non-first call to a function\u001b[39m\u001b[38;5;124m\"\u001b[39m\n\u001b[0;32m    922\u001b[0m                    \u001b[38;5;124m\"\u001b[39m\u001b[38;5;124m decorated with tf.function.\u001b[39m\u001b[38;5;124m\"\u001b[39m)\n",
      "File \u001b[1;32m~\\AppData\\Roaming\\Python\\Python310\\site-packages\\tensorflow\\python\\eager\\polymorphic_function\\tracing_compiler.py:134\u001b[0m, in \u001b[0;36mTracingCompiler.__call__\u001b[1;34m(self, *args, **kwargs)\u001b[0m\n\u001b[0;32m    131\u001b[0m \u001b[38;5;28;01mwith\u001b[39;00m \u001b[38;5;28mself\u001b[39m\u001b[38;5;241m.\u001b[39m_lock:\n\u001b[0;32m    132\u001b[0m   (concrete_function,\n\u001b[0;32m    133\u001b[0m    filtered_flat_args) \u001b[38;5;241m=\u001b[39m \u001b[38;5;28mself\u001b[39m\u001b[38;5;241m.\u001b[39m_maybe_define_function(args, kwargs)\n\u001b[1;32m--> 134\u001b[0m \u001b[38;5;28;01mreturn\u001b[39;00m \u001b[43mconcrete_function\u001b[49m\u001b[38;5;241;43m.\u001b[39;49m\u001b[43m_call_flat\u001b[49m\u001b[43m(\u001b[49m\n\u001b[0;32m    135\u001b[0m \u001b[43m    \u001b[49m\u001b[43mfiltered_flat_args\u001b[49m\u001b[43m,\u001b[49m\u001b[43m \u001b[49m\u001b[43mcaptured_inputs\u001b[49m\u001b[38;5;241;43m=\u001b[39;49m\u001b[43mconcrete_function\u001b[49m\u001b[38;5;241;43m.\u001b[39;49m\u001b[43mcaptured_inputs\u001b[49m\u001b[43m)\u001b[49m\n",
      "File \u001b[1;32m~\\AppData\\Roaming\\Python\\Python310\\site-packages\\tensorflow\\python\\eager\\polymorphic_function\\monomorphic_function.py:1745\u001b[0m, in \u001b[0;36mConcreteFunction._call_flat\u001b[1;34m(self, args, captured_inputs, cancellation_manager)\u001b[0m\n\u001b[0;32m   1741\u001b[0m possible_gradient_type \u001b[38;5;241m=\u001b[39m gradients_util\u001b[38;5;241m.\u001b[39mPossibleTapeGradientTypes(args)\n\u001b[0;32m   1742\u001b[0m \u001b[38;5;28;01mif\u001b[39;00m (possible_gradient_type \u001b[38;5;241m==\u001b[39m gradients_util\u001b[38;5;241m.\u001b[39mPOSSIBLE_GRADIENT_TYPES_NONE\n\u001b[0;32m   1743\u001b[0m     \u001b[38;5;129;01mand\u001b[39;00m executing_eagerly):\n\u001b[0;32m   1744\u001b[0m   \u001b[38;5;66;03m# No tape is watching; skip to running the function.\u001b[39;00m\n\u001b[1;32m-> 1745\u001b[0m   \u001b[38;5;28;01mreturn\u001b[39;00m \u001b[38;5;28mself\u001b[39m\u001b[38;5;241m.\u001b[39m_build_call_outputs(\u001b[38;5;28;43mself\u001b[39;49m\u001b[38;5;241;43m.\u001b[39;49m\u001b[43m_inference_function\u001b[49m\u001b[38;5;241;43m.\u001b[39;49m\u001b[43mcall\u001b[49m\u001b[43m(\u001b[49m\n\u001b[0;32m   1746\u001b[0m \u001b[43m      \u001b[49m\u001b[43mctx\u001b[49m\u001b[43m,\u001b[49m\u001b[43m \u001b[49m\u001b[43margs\u001b[49m\u001b[43m,\u001b[49m\u001b[43m \u001b[49m\u001b[43mcancellation_manager\u001b[49m\u001b[38;5;241;43m=\u001b[39;49m\u001b[43mcancellation_manager\u001b[49m\u001b[43m)\u001b[49m)\n\u001b[0;32m   1747\u001b[0m forward_backward \u001b[38;5;241m=\u001b[39m \u001b[38;5;28mself\u001b[39m\u001b[38;5;241m.\u001b[39m_select_forward_and_backward_functions(\n\u001b[0;32m   1748\u001b[0m     args,\n\u001b[0;32m   1749\u001b[0m     possible_gradient_type,\n\u001b[0;32m   1750\u001b[0m     executing_eagerly)\n\u001b[0;32m   1751\u001b[0m forward_function, args_with_tangents \u001b[38;5;241m=\u001b[39m forward_backward\u001b[38;5;241m.\u001b[39mforward()\n",
      "File \u001b[1;32m~\\AppData\\Roaming\\Python\\Python310\\site-packages\\tensorflow\\python\\eager\\polymorphic_function\\monomorphic_function.py:378\u001b[0m, in \u001b[0;36m_EagerDefinedFunction.call\u001b[1;34m(self, ctx, args, cancellation_manager)\u001b[0m\n\u001b[0;32m    376\u001b[0m \u001b[38;5;28;01mwith\u001b[39;00m _InterpolateFunctionError(\u001b[38;5;28mself\u001b[39m):\n\u001b[0;32m    377\u001b[0m   \u001b[38;5;28;01mif\u001b[39;00m cancellation_manager \u001b[38;5;129;01mis\u001b[39;00m \u001b[38;5;28;01mNone\u001b[39;00m:\n\u001b[1;32m--> 378\u001b[0m     outputs \u001b[38;5;241m=\u001b[39m \u001b[43mexecute\u001b[49m\u001b[38;5;241;43m.\u001b[39;49m\u001b[43mexecute\u001b[49m\u001b[43m(\u001b[49m\n\u001b[0;32m    379\u001b[0m \u001b[43m        \u001b[49m\u001b[38;5;28;43mstr\u001b[39;49m\u001b[43m(\u001b[49m\u001b[38;5;28;43mself\u001b[39;49m\u001b[38;5;241;43m.\u001b[39;49m\u001b[43msignature\u001b[49m\u001b[38;5;241;43m.\u001b[39;49m\u001b[43mname\u001b[49m\u001b[43m)\u001b[49m\u001b[43m,\u001b[49m\n\u001b[0;32m    380\u001b[0m \u001b[43m        \u001b[49m\u001b[43mnum_outputs\u001b[49m\u001b[38;5;241;43m=\u001b[39;49m\u001b[38;5;28;43mself\u001b[39;49m\u001b[38;5;241;43m.\u001b[39;49m\u001b[43m_num_outputs\u001b[49m\u001b[43m,\u001b[49m\n\u001b[0;32m    381\u001b[0m \u001b[43m        \u001b[49m\u001b[43minputs\u001b[49m\u001b[38;5;241;43m=\u001b[39;49m\u001b[43margs\u001b[49m\u001b[43m,\u001b[49m\n\u001b[0;32m    382\u001b[0m \u001b[43m        \u001b[49m\u001b[43mattrs\u001b[49m\u001b[38;5;241;43m=\u001b[39;49m\u001b[43mattrs\u001b[49m\u001b[43m,\u001b[49m\n\u001b[0;32m    383\u001b[0m \u001b[43m        \u001b[49m\u001b[43mctx\u001b[49m\u001b[38;5;241;43m=\u001b[39;49m\u001b[43mctx\u001b[49m\u001b[43m)\u001b[49m\n\u001b[0;32m    384\u001b[0m   \u001b[38;5;28;01melse\u001b[39;00m:\n\u001b[0;32m    385\u001b[0m     outputs \u001b[38;5;241m=\u001b[39m execute\u001b[38;5;241m.\u001b[39mexecute_with_cancellation(\n\u001b[0;32m    386\u001b[0m         \u001b[38;5;28mstr\u001b[39m(\u001b[38;5;28mself\u001b[39m\u001b[38;5;241m.\u001b[39msignature\u001b[38;5;241m.\u001b[39mname),\n\u001b[0;32m    387\u001b[0m         num_outputs\u001b[38;5;241m=\u001b[39m\u001b[38;5;28mself\u001b[39m\u001b[38;5;241m.\u001b[39m_num_outputs,\n\u001b[1;32m   (...)\u001b[0m\n\u001b[0;32m    390\u001b[0m         ctx\u001b[38;5;241m=\u001b[39mctx,\n\u001b[0;32m    391\u001b[0m         cancellation_manager\u001b[38;5;241m=\u001b[39mcancellation_manager)\n",
      "File \u001b[1;32m~\\AppData\\Roaming\\Python\\Python310\\site-packages\\tensorflow\\python\\eager\\execute.py:52\u001b[0m, in \u001b[0;36mquick_execute\u001b[1;34m(op_name, num_outputs, inputs, attrs, ctx, name)\u001b[0m\n\u001b[0;32m     50\u001b[0m \u001b[38;5;28;01mtry\u001b[39;00m:\n\u001b[0;32m     51\u001b[0m   ctx\u001b[38;5;241m.\u001b[39mensure_initialized()\n\u001b[1;32m---> 52\u001b[0m   tensors \u001b[38;5;241m=\u001b[39m \u001b[43mpywrap_tfe\u001b[49m\u001b[38;5;241;43m.\u001b[39;49m\u001b[43mTFE_Py_Execute\u001b[49m\u001b[43m(\u001b[49m\u001b[43mctx\u001b[49m\u001b[38;5;241;43m.\u001b[39;49m\u001b[43m_handle\u001b[49m\u001b[43m,\u001b[49m\u001b[43m \u001b[49m\u001b[43mdevice_name\u001b[49m\u001b[43m,\u001b[49m\u001b[43m \u001b[49m\u001b[43mop_name\u001b[49m\u001b[43m,\u001b[49m\n\u001b[0;32m     53\u001b[0m \u001b[43m                                      \u001b[49m\u001b[43minputs\u001b[49m\u001b[43m,\u001b[49m\u001b[43m \u001b[49m\u001b[43mattrs\u001b[49m\u001b[43m,\u001b[49m\u001b[43m \u001b[49m\u001b[43mnum_outputs\u001b[49m\u001b[43m)\u001b[49m\n\u001b[0;32m     54\u001b[0m \u001b[38;5;28;01mexcept\u001b[39;00m core\u001b[38;5;241m.\u001b[39m_NotOkStatusException \u001b[38;5;28;01mas\u001b[39;00m e:\n\u001b[0;32m     55\u001b[0m   \u001b[38;5;28;01mif\u001b[39;00m name \u001b[38;5;129;01mis\u001b[39;00m \u001b[38;5;129;01mnot\u001b[39;00m \u001b[38;5;28;01mNone\u001b[39;00m:\n",
      "\u001b[1;31mKeyboardInterrupt\u001b[0m: "
     ]
    },
    {
     "data": {
      "image/png": "[encoded data removed]",
      "text/plain": [
       "<Figure size 800x800 with 1 Axes>"
      ]
     },
     "metadata": {},
     "output_type": "display_data"
    }
   ],
   "source": [
    "microphones = np.c_[[ROOM_DIM[0]/2-0.1, 0.5, 0], [ROOM_DIM[0]/2+0.1, 0.5, 0]]\n",
    "source_loc = [float(4.5), float(4.5)]\n",
    "centre_mic = [2.5, 0.5]\n",
    "\n",
    "plt.rcParams.update({'figure.figsize': [8,8], 'figure.autolayout': True, 'font.size': 16})\n",
    "fig, _ = plt.subplots()\n",
    "ax = plt.gca()\n",
    "ax.set_xlim([0, 5.2])\n",
    "ax.set_ylim([0, 5.2])\n",
    "\n",
    "# Include sound source patch\n",
    "sound = patches.Circle((float(source_loc[0]), float(source_loc[1])), radius=0.1, facecolor='green', linewidth=5, label='Sound Source')\n",
    "ax.add_patch(sound)\n",
    "\n",
    "# Include custom legend\n",
    "legend_elements = [Line2D([0], [0], marker='o', lw=2, color='green',   label='Sound Source'),\n",
    "                   Line2D([0], [0], marker='o', lw=2, color='#3776ab', label='MUSIC'),\n",
    "                   Line2D([0], [0], marker='o', lw=2, color=\"#ff8f0f\", label='CNN')]\n",
    "ax.legend(handles=legend_elements, loc='upper left')\n",
    "\n",
    "# Initialize models\n",
    "MUSIC = Model_pred('MUSIC', source_loc, centre_mic, '#3776ab')\n",
    "CNN = Model_pred('CNN', source_loc, centre_mic, '#ff8f0f')\n",
    "i = 0\n",
    "\n",
    "# Generate predictions\n",
    "while MUSIC.success == False or CNN.success == False:\n",
    "    # Generate room\n",
    "    fs, signal = wavfile.read(AUDIO_PATH)\n",
    "    MUSIC.get_room(signal, ax)\n",
    "    CNN.get_room(signal, ax)\n",
    "\n",
    "    # Localize sound\n",
    "    MUSIC.get_pred(ax)\n",
    "    CNN.get_pred(ax)\n",
    "    \n",
    "    i += 1\n",
    "    plt.savefig(\"..\\\\pygame\\\\path_ideal\\\\path_ideal_%02d.png\"%i)\n",
    "    plt.show"
   ]
  }
 ],
 "metadata": {
  "kernelspec": {
   "display_name": "Python 3",
   "language": "python",
   "name": "python3"
  },
  "language_info": {
   "codemirror_mode": {
    "name": "ipython",
    "version": 3
   },
   "file_extension": ".py",
   "mimetype": "text/x-python",
   "name": "python",
   "nbconvert_exporter": "python",
   "pygments_lexer": "ipython3",
   "version": "3.10.10"
  },
  "orig_nbformat": 4
 },
 "nbformat": 4,
 "nbformat_minor": 2
}
