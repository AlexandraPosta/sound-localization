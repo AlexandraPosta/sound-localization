{
 "cells": [
  {
   "attachments": {},
   "cell_type": "markdown",
   "metadata": {},
   "source": [
    "# Path planning application"
   ]
  },
  {
   "attachments": {},
   "cell_type": "markdown",
   "metadata": {},
   "source": [
    "## Imports and constants"
   ]
  },
  {
   "cell_type": "code",
   "execution_count": 224,
   "metadata": {},
   "outputs": [],
   "source": [
    "import math\n",
    "import os\n",
    "\n",
    "import numpy as np\n",
    "from scipy.io import wavfile\n",
    "from matplotlib import pyplot as plt, patches\n",
    "import pandas as pd\n",
    "\n",
    "import pyroomacoustics as pra\n",
    "from pyroomacoustics.utilities import normalize\n",
    "\n",
    "from keras.models import load_model\n",
    "from sklearn.preprocessing import OneHotEncoder\n",
    "\n",
    "from itertools import combinations\n",
    "\n",
    "C = 343.                                                 \n",
    "NFFT = 256   \n",
    "ROOM_DIM = [5.,5.]\n",
    "SNR = 0.001                                               \n",
    "\n",
    "AUDIO_PATH = \"C:\\\\Users\\\\Alex\\\\source\\\\repos\\\\Data\\\\Sound\\\\arctic_a0200.wav\"\n",
    "#AUDIO_PATH = 'C:\\\\Users\\\\Alex\\\\source\\\\repos\\\\sound-localization\\\\data\\\\half_circle\\\\0.001\\\\train_angle_140_dist_200_room_small_arctic_a0009.wav'"
   ]
  },
  {
   "attachments": {},
   "cell_type": "markdown",
   "metadata": {},
   "source": [
    "## Utils"
   ]
  },
  {
   "attachments": {},
   "cell_type": "markdown",
   "metadata": {},
   "source": [
    "### CNN\n",
    "\n",
    "To predict using CNN:\n",
    "- load the CNN model as:        \n",
    "`\n",
    "model = load_model('../models/INSERT_MODEL_NAME', compile = True) \n",
    "`\n",
    "\n",
    "- create GCC_PHAT matrix frim .wav file:        \n",
    "`\n",
    "X = create_observations()\n",
    "`\n",
    "\n",
    "- get prediction in degrees:        \n",
    "`\n",
    "encoder = encode()\n",
    "`                                               \n",
    "`\n",
    "pred = get_CNN_prediction(X, model, encoder)\n",
    "`"
   ]
  },
  {
   "cell_type": "code",
   "execution_count": 225,
   "metadata": {},
   "outputs": [],
   "source": [
    "# CNN\n",
    "def gcc_phat(x_1, x_2, FS=16000, interp=1):    \n",
    "    n = len(x_1) + len(x_2) - 1\n",
    "    n += 1 if n % 2 else 0\n",
    "    \n",
    "    # Fourier transforms of the two signals\n",
    "    X_1 = np.fft.rfft(x_1, n=n)\n",
    "    X_2 = np.fft.rfft(x_2, n=n)\n",
    "    \n",
    "    # Normalize by the magnitude of FFT - because PHAT\n",
    "    np.divide(X_1, np.abs(X_1), X_1, where=np.abs(X_1) != 0)\n",
    "    np.divide(X_2, np.abs(X_2), X_2, where=np.abs(X_2) != 0)\n",
    "    \n",
    "    # GCC-PHAT = [X_1(f)X_2*(f)] / |X_1(f)X_2*(f)|\n",
    "    # See Knapp and Carter (1976) for reference\n",
    "    CC = X_1 * np.conj(X_2)\n",
    "    cc = np.fft.irfft(CC, n=n * interp)\n",
    "        \n",
    "    # Maximum delay between a pair of microphones,\n",
    "    # expressed in a number of samples.\n",
    "    # 0.2 m is the distance between the micropones and \n",
    "    # 340 m/s is assumed to be the speed of sound.\n",
    "    max_len = math.ceil(0.2 / 340 * FS * interp)\n",
    "    \n",
    "    # Trim the cc vector to only include a \n",
    "    # small number of samples around the origin\n",
    "    cc = np.concatenate((cc[-max_len:], cc[:max_len+1]))\n",
    "    \n",
    "    # Return the cross correlation\n",
    "    return cc\n",
    "\n",
    "\n",
    "def compute_gcc_matrix(observation, fs, interp=1):    \n",
    "    # Initialize a transformed observation, that will be populated with GCC vectors\n",
    "    # of the observation\n",
    "    transformed_observation = []\n",
    "\n",
    "    # Compute GCC for every pair of microphones\n",
    "    mic_1, mic_2 = [0, 1]\n",
    "    x_1 = observation[:, mic_1]\n",
    "    x_2 = observation[:, mic_2]\n",
    "\n",
    "    gcc = gcc_phat(x_1, x_2, FS=fs, interp=interp)\n",
    "\n",
    "    # Add the GCC vector to the GCC matrix\n",
    "    transformed_observation.append(gcc)    \n",
    "        \n",
    "    return transformed_observation\n",
    "\n",
    "\n",
    "def create_observations(wav_signals, fs, samples=20, step=5, interp=1):\n",
    "    # Lists of observations and labels that will be populated\n",
    "    X = []\n",
    "    \n",
    "    # Loop through the signal frame and take subframes\n",
    "    for i in range(0, len(wav_signals) - samples + 1, step):\n",
    "        # Extract the observation from subframe\n",
    "        observation = np.array(wav_signals[i : i + samples])\n",
    "              \n",
    "        # Transform observation into a GCC matrix\n",
    "        X.append(compute_gcc_matrix(observation, fs, interp=interp))\n",
    "\n",
    "    cols = [\n",
    "                f'mics{mic_1+1}{mic_2+1}_{i}' \n",
    "                    for mic_1, mic_2 in combinations(range(2), r=2) \n",
    "                        for i in range(np.shape(X)[2])\n",
    "            ]\n",
    "\n",
    "    df = pd.DataFrame(data=np.reshape(X, (len(X), -1)), columns=cols)\n",
    "    \n",
    "    return df\n",
    "\n",
    "\n",
    "def encode():\n",
    "    x = list(range(0, 180 + 1, 10))\n",
    "    encoder = OneHotEncoder(handle_unknown='ignore', sparse_output=False)\n",
    "    encoder.fit([[label] for label in x])\n",
    "    return encoder\n",
    "\n",
    "\n",
    "def get_CNN_prediction(X, model, encoder):\n",
    "    predictions = model.predict(X)\n",
    "    y_pred = encoder.inverse_transform(predictions)\n",
    "    predictions=[]\n",
    "\n",
    "    for i in y_pred:\n",
    "        predictions.append(int(i))\n",
    "\n",
    "    return max(set(predictions), key=predictions.count)"
   ]
  },
  {
   "cell_type": "code",
   "execution_count": 190,
   "metadata": {},
   "outputs": [
    {
     "name": "stdout",
     "output_type": "stream",
     "text": [
      "367/367 [==============================] - 1s 2ms/step\n"
     ]
    }
   ],
   "source": [
    "# Load the model\n",
    "model = load_model('../models/saved_model', compile = True)\n",
    "X = create_observations()\n",
    "encoder = encode()\n",
    "pred = get_CNN_prediction(X, model, encoder)"
   ]
  },
  {
   "cell_type": "code",
   "execution_count": 197,
   "metadata": {},
   "outputs": [
    {
     "data": {
      "text/plain": [
       "140"
      ]
     },
     "execution_count": 197,
     "metadata": {},
     "output_type": "execute_result"
    }
   ],
   "source": [
    "pred"
   ]
  },
  {
   "attachments": {},
   "cell_type": "markdown",
   "metadata": {},
   "source": [
    "### MUSIC\n",
    "\n",
    "- Run MUSIC by calling:                 \n",
    "`\n",
    "pred = MUSIC(INSERT_SIMUALATED_ROOM, INSERT_MICROPHONE, INSERT_SFFT_MATRIX, FRAMES)\n",
    "`"
   ]
  },
  {
   "cell_type": "code",
   "execution_count": 221,
   "metadata": {},
   "outputs": [],
   "source": [
    "def MUSIC(room, microphones, X, fs):\n",
    "    X = pra.transform.stft.analysis(room.mic_array.signals.T, NFFT, NFFT // 2)\n",
    "    X = X.transpose([2, 1, 0])\n",
    "\n",
    "    # Construct the new DOA object and perform localization on the frames in X\n",
    "    doa = pra.doa.MUSIC(microphones, fs, NFFT, c=C, num_src=1)\n",
    "    doa.locate_sources(X)\n",
    "    pred = doa.azimuth_recon\n",
    "\n",
    "    if pred > np.pi:\n",
    "        pred = (2 * np.pi - pred)\n",
    "\n",
    "    return pred"
   ]
  },
  {
   "attachments": {},
   "cell_type": "markdown",
   "metadata": {},
   "source": [
    "### Room"
   ]
  },
  {
   "cell_type": "code",
   "execution_count": 222,
   "metadata": {},
   "outputs": [],
   "source": [
    "def create_room(signal, fs, source_loc, centre_mic):\n",
    "    room = pra.ShoeBox(ROOM_DIM, fs=fs, max_order=2)\n",
    "    room.add_source(source_loc, signal=signal)\n",
    "\n",
    "    microphones = np.c_[[centre_mic[0]-0.1, centre_mic[1]], [centre_mic[0]+0.1, centre_mic[1]]]\n",
    "    room.add_microphone_array(microphones)\n",
    "\n",
    "    snr = 10*math.log10(2/SNR)\n",
    "    room.simulate(snr=snr)\n",
    "\n",
    "    return room, microphones"
   ]
  },
  {
   "attachments": {},
   "cell_type": "markdown",
   "metadata": {},
   "source": [
    "## Visualization"
   ]
  },
  {
   "cell_type": "code",
   "execution_count": 223,
   "metadata": {},
   "outputs": [
    {
     "data": {
      "image/png": "[encoded data removed]",
      "text/plain": [
       "<Figure size 800x800 with 1 Axes>"
      ]
     },
     "metadata": {},
     "output_type": "display_data"
    }
   ],
   "source": [
    "not_found = True\n",
    "microphones = np.c_[[ROOM_DIM[0]/2-0.1, 0.5, 0], [ROOM_DIM[0]/2+0.1, 0.5, 0]]\n",
    "source_loc = [float(2.25), float(4.5)]\n",
    "centre_mic = [2.5, 0.5]\n",
    "\n",
    "plt.rcParams[\"figure.figsize\"] = [8, 8]\n",
    "plt.rcParams[\"figure.autolayout\"] = True\n",
    "fig, _ = plt.subplots()\n",
    "ax = plt.gca()\n",
    "plt.title(\"Path planner\")\n",
    "ax.set_xlim([0, 5.2])\n",
    "ax.set_ylim([0, 5.2])\n",
    "\n",
    "sound = patches.Circle((float(source_loc[0]), float(source_loc[1])), radius=0.05, facecolor='green', linewidth=5)\n",
    "ax.add_patch(patches.Rectangle((.1, .1), 5, 5, edgecolor='black', facecolor='none', linewidth=2))\n",
    "ax.add_patch(sound)\n",
    "\n",
    "while not_found:\n",
    "    # Generate room\n",
    "    fs, signal = wavfile.read(AUDIO_PATH)\n",
    "    room, microphones = create_room(signal, fs, source_loc, centre_mic)\n",
    "    ax.add_patch(patches.Circle((centre_mic[0], centre_mic[1]), radius=0.05, edgecolor='red', facecolor='none', linewidth=2))\n",
    "\n",
    "    # Localize MUSIC\n",
    "    pred = MUSIC(room, microphones, X, fs)\n",
    "\n",
    "    if (source_loc[0]-0.3 < centre_mic[0] < source_loc[0]+0.3 and source_loc[1]-0.3 < centre_mic[1] < source_loc[1]+0.3):\n",
    "        not_found = False\n",
    "    else:\n",
    "        x_align = centre_mic[0] + 0.25*np.cos(pred)\n",
    "        y_align = centre_mic[1] + 0.25*np.sin(pred)\n",
    "        ax.add_patch(patches.FancyArrowPatch((float(centre_mic[0]), float(centre_mic[1])), \n",
    "                                             (float(x_align), float(y_align)), \n",
    "                                             mutation_scale=10, arrowstyle='->'))\n",
    "        centre_mic = [x_align, y_align]\n",
    "    \n",
    "    plt.show\n",
    "\n"
   ]
  },
  {
   "cell_type": "code",
   "execution_count": 230,
   "metadata": {},
   "outputs": [
    {
     "name": "stdout",
     "output_type": "stream",
     "text": [
      "373/373 [==============================] - 1s 2ms/step\n",
      "373/373 [==============================] - 1s 2ms/step\n",
      "373/373 [==============================] - 1s 2ms/step\n",
      "373/373 [==============================] - 1s 2ms/step\n",
      "373/373 [==============================] - 1s 2ms/step\n",
      "373/373 [==============================] - 1s 2ms/step\n",
      "373/373 [==============================] - 1s 2ms/step\n"
     ]
    }
   ],
   "source": [
    "model = load_model('../models/saved_model', compile = True)\n",
    "encoder = encode()\n",
    "\n",
    "not_found = True\n",
    "microphones = np.c_[[ROOM_DIM[0]/2-0.1, 0.5, 0], [ROOM_DIM[0]/2+0.1, 0.5, 0]]\n",
    "source_loc = [float(2.25), float(4.5)]\n",
    "centre_mic = [2.5, 0.5]\n",
    "\n",
    "plt.rcParams[\"figure.figsize\"] = [8, 8]\n",
    "plt.rcParams[\"figure.autolayout\"] = True\n",
    "fig, _ = plt.subplots()\n",
    "ax = plt.gca()\n",
    "plt.title(\"Path planner\")\n",
    "ax.set_xlim([0, 5.2])\n",
    "ax.set_ylim([0, 5.2])\n",
    "\n",
    "sound = patches.Circle((float(source_loc[0]), float(source_loc[1])), radius=0.05, facecolor='green', linewidth=5)\n",
    "ax.add_patch(patches.Rectangle((.1, .1), 5, 5, edgecolor='black', facecolor='none', linewidth=2))\n",
    "ax.add_patch(sound)\n",
    "\n",
    "while not_found:\n",
    "    # Generate room\n",
    "    fs, signal = wavfile.read(AUDIO_PATH)\n",
    "    room, microphones = create_room(signal, fs, source_loc, centre_mic)\n",
    "    ax.add_patch(patches.Circle((centre_mic[0], centre_mic[1]), radius=0.05, edgecolor='blue', facecolor='none', linewidth=2))\n",
    "\n",
    "    # Localize CNN\n",
    "    data = room.mic_array.signals.T\n",
    "    data = np.array(normalize(data, bits=16), dtype=np.int16)\n",
    "\n",
    "    X = create_observations(data, fs)    \n",
    "    pred = get_CNN_prediction(X, model, encoder)\n",
    "\n",
    "\n",
    "\n",
    "\n",
    "\n",
    "\n",
    "\n",
    "\n",
    "    if (source_loc[0]-2 < centre_mic[0] < source_loc[0]+2 and source_loc[1]-2 < centre_mic[1] < source_loc[1]+2):\n",
    "        not_found = False\n",
    "    else:\n",
    "        x_align = centre_mic[0] + 0.25*np.cos(pred)\n",
    "        y_align = centre_mic[1] + 0.25*np.sin(pred)\n",
    "        ax.add_patch(patches.FancyArrowPatch((float(centre_mic[0]), float(centre_mic[1])), \n",
    "                                             (float(x_align), float(y_align)), \n",
    "                                             mutation_scale=10, arrowstyle='->'))\n",
    "        centre_mic = [x_align, y_align]\n",
    "    \n",
    "    plt.show"
   ]
  }
 ],
 "metadata": {
  "kernelspec": {
   "display_name": "Python 3",
   "language": "python",
   "name": "python3"
  },
  "language_info": {
   "codemirror_mode": {
    "name": "ipython",
    "version": 3
   },
   "file_extension": ".py",
   "mimetype": "text/x-python",
   "name": "python",
   "nbconvert_exporter": "python",
   "pygments_lexer": "ipython3",
   "version": "3.10.10"
  },
  "orig_nbformat": 4
 },
 "nbformat": 4,
 "nbformat_minor": 2
}
